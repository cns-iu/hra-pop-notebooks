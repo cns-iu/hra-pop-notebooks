{
 "cells": [
  {
   "cell_type": "markdown",
   "metadata": {},
   "source": [
    "## Visualize Cell Types (CT) by Cell Type Annotation Tool (CTann)"
   ]
  },
  {
   "cell_type": "markdown",
   "metadata": {},
   "source": [
    "## Goals"
   ]
  },
  {
   "cell_type": "markdown",
   "metadata": {},
   "source": [
    "Build these visualizations:\n",
    "\n",
    "1. Stacked bar graph with CTs on x, number of cells on y, stacked by CTann, for lung datasets in HRApop\n",
    "2. Bar graph that shows agreement between CTann"
   ]
  },
  {
   "cell_type": "markdown",
   "metadata": {},
   "source": [
    "## Install and import libraries"
   ]
  },
  {
   "cell_type": "code",
   "execution_count": 9,
   "metadata": {},
   "outputs": [
    {
     "name": "stdout",
     "output_type": "stream",
     "text": [
      "Requirement already satisfied: requests in c:\\users\\abueckle\\documents\\github\\hra-pop-notebooks\\.venv\\lib\\site-packages (2.32.3)\n",
      "Requirement already satisfied: pandas in c:\\users\\abueckle\\documents\\github\\hra-pop-notebooks\\.venv\\lib\\site-packages (2.2.3)\n",
      "Requirement already satisfied: seaborn in c:\\users\\abueckle\\documents\\github\\hra-pop-notebooks\\.venv\\lib\\site-packages (0.13.2)\n",
      "Requirement already satisfied: matplotlib in c:\\users\\abueckle\\documents\\github\\hra-pop-notebooks\\.venv\\lib\\site-packages (3.10.1)\n",
      "Requirement already satisfied: charset-normalizer<4,>=2 in c:\\users\\abueckle\\documents\\github\\hra-pop-notebooks\\.venv\\lib\\site-packages (from requests) (3.4.1)\n",
      "Requirement already satisfied: idna<4,>=2.5 in c:\\users\\abueckle\\documents\\github\\hra-pop-notebooks\\.venv\\lib\\site-packages (from requests) (3.10)\n",
      "Requirement already satisfied: urllib3<3,>=1.21.1 in c:\\users\\abueckle\\documents\\github\\hra-pop-notebooks\\.venv\\lib\\site-packages (from requests) (2.3.0)\n",
      "Requirement already satisfied: certifi>=2017.4.17 in c:\\users\\abueckle\\documents\\github\\hra-pop-notebooks\\.venv\\lib\\site-packages (from requests) (2025.1.31)\n",
      "Requirement already satisfied: numpy>=1.26.0 in c:\\users\\abueckle\\documents\\github\\hra-pop-notebooks\\.venv\\lib\\site-packages (from pandas) (2.2.4)\n",
      "Requirement already satisfied: python-dateutil>=2.8.2 in c:\\users\\abueckle\\documents\\github\\hra-pop-notebooks\\.venv\\lib\\site-packages (from pandas) (2.9.0.post0)\n",
      "Requirement already satisfied: pytz>=2020.1 in c:\\users\\abueckle\\documents\\github\\hra-pop-notebooks\\.venv\\lib\\site-packages (from pandas) (2025.1)\n",
      "Requirement already satisfied: tzdata>=2022.7 in c:\\users\\abueckle\\documents\\github\\hra-pop-notebooks\\.venv\\lib\\site-packages (from pandas) (2025.2)\n",
      "Requirement already satisfied: contourpy>=1.0.1 in c:\\users\\abueckle\\documents\\github\\hra-pop-notebooks\\.venv\\lib\\site-packages (from matplotlib) (1.3.1)\n",
      "Requirement already satisfied: cycler>=0.10 in c:\\users\\abueckle\\documents\\github\\hra-pop-notebooks\\.venv\\lib\\site-packages (from matplotlib) (0.12.1)\n",
      "Requirement already satisfied: fonttools>=4.22.0 in c:\\users\\abueckle\\documents\\github\\hra-pop-notebooks\\.venv\\lib\\site-packages (from matplotlib) (4.56.0)\n",
      "Requirement already satisfied: kiwisolver>=1.3.1 in c:\\users\\abueckle\\documents\\github\\hra-pop-notebooks\\.venv\\lib\\site-packages (from matplotlib) (1.4.8)\n",
      "Requirement already satisfied: packaging>=20.0 in c:\\users\\abueckle\\documents\\github\\hra-pop-notebooks\\.venv\\lib\\site-packages (from matplotlib) (24.2)\n",
      "Requirement already satisfied: pillow>=8 in c:\\users\\abueckle\\documents\\github\\hra-pop-notebooks\\.venv\\lib\\site-packages (from matplotlib) (11.1.0)\n",
      "Requirement already satisfied: pyparsing>=2.3.1 in c:\\users\\abueckle\\documents\\github\\hra-pop-notebooks\\.venv\\lib\\site-packages (from matplotlib) (3.2.2)\n",
      "Requirement already satisfied: six>=1.5 in c:\\users\\abueckle\\documents\\github\\hra-pop-notebooks\\.venv\\lib\\site-packages (from python-dateutil>=2.8.2->pandas) (1.17.0)\n",
      "Note: you may need to restart the kernel to use updated packages.\n"
     ]
    }
   ],
   "source": [
    "%pip install requests pandas seaborn matplotlib\n",
    "\n",
    "import requests\n",
    "import pandas as pd\n",
    "import seaborn as sns\n",
    "import matplotlib.pyplot as plt\n"
   ]
  },
  {
   "cell_type": "markdown",
   "metadata": {},
   "source": [
    "## Global variables"
   ]
  },
  {
   "cell_type": "code",
   "execution_count": 3,
   "metadata": {},
   "outputs": [],
   "source": [
    "hra_pop_version = 'v0.11.1'"
   ]
  },
  {
   "cell_type": "markdown",
   "metadata": {},
   "source": [
    "## Load data"
   ]
  },
  {
   "cell_type": "code",
   "execution_count": null,
   "metadata": {},
   "outputs": [
    {
     "data": {
      "application/vnd.microsoft.datawrangler.viewer.v0+json": {
       "columns": [
        {
         "name": "index",
         "rawType": "int64",
         "type": "integer"
        },
        {
         "name": "tool",
         "rawType": "object",
         "type": "string"
        },
        {
         "name": "cell_id",
         "rawType": "object",
         "type": "string"
        },
        {
         "name": "cell_label",
         "rawType": "object",
         "type": "string"
        },
        {
         "name": "count",
         "rawType": "int64",
         "type": "integer"
        },
        {
         "name": "avg_percentage_of_total",
         "rawType": "float64",
         "type": "float"
        }
       ],
       "conversionMethod": "pd.DataFrame",
       "ref": "b9a0882d-ede4-4aae-bf75-f24f8dace36f",
       "rows": [
        [
         "0",
         "azimuth",
         "http://purl.obolibrary.org/obo/CL_4028002",
         "EC general capillary",
         "1067664",
         "0.1833142661813769"
        ],
        [
         "1",
         "azimuth",
         "http://purl.obolibrary.org/obo/CL_0002062",
         "AT1",
         "692194",
         "0.1494743503690493"
        ],
        [
         "2",
         "azimuth",
         "http://purl.obolibrary.org/obo/CL_0002063",
         "AT2",
         "330530",
         "0.1504594558093757"
        ],
        [
         "3",
         "azimuth",
         "http://purl.obolibrary.org/obo/CL_0002145",
         "Multiciliated (non-nasal)",
         "290708",
         "0.0484673996877914"
        ],
        [
         "4",
         "azimuth",
         "http://purl.obolibrary.org/obo/CL_0000624",
         "CD4 T cells",
         "202292",
         "0.0461899078479363"
        ],
        [
         "5",
         "azimuth",
         "http://purl.obolibrary.org/obo/CL_4028004",
         "Alveolar fibroblasts",
         "200920",
         "0.0683779378669037"
        ],
        [
         "6",
         "azimuth",
         "http://purl.obolibrary.org/obo/CL_0000625",
         "CD8 T cells",
         "198830",
         "0.0516948004231623"
        ],
        [
         "7",
         "azimuth",
         "http://purl.obolibrary.org/obo/CL_4033008",
         "EC venous systemic",
         "149726",
         "0.029872485781905"
        ],
        [
         "8",
         "azimuth",
         "http://purl.obolibrary.org/obo/CL_0017000",
         "Ionocyte",
         "95524",
         "0.0136737428069961"
        ],
        [
         "9",
         "azimuth",
         "http://purl.obolibrary.org/obo/CL_1001568",
         "EC arterial",
         "79020",
         "0.0150485730137981"
        ],
        [
         "10",
         "azimuth",
         "http://purl.obolibrary.org/obo/CL_0009089",
         "Pericytes",
         "54882",
         "0.0168385411948429"
        ],
        [
         "11",
         "azimuth",
         "http://purl.obolibrary.org/obo/CL_4028006",
         "Adventitial fibroblasts",
         "40252",
         "0.0143879328026561"
        ],
        [
         "12",
         "azimuth",
         "http://purl.obolibrary.org/obo/CL_4028003",
         "EC aerocyte capillary",
         "39498",
         "0.0214287116741274"
        ],
        [
         "13",
         "azimuth",
         "http://purl.obolibrary.org/obo/CL_0000583",
         "Alveolar macrophages",
         "34590",
         "0.0531595922606257"
        ],
        [
         "14",
         "azimuth",
         "http://purl.obolibrary.org/obo/CL_0000192",
         "Smooth muscle",
         "28714",
         "0.0065015839086414"
        ],
        [
         "15",
         "azimuth",
         "http://purl.obolibrary.org/obo/CL_0002633",
         "Basal resting",
         "27322",
         "0.0063798748011412"
        ],
        [
         "16",
         "azimuth",
         "http://purl.obolibrary.org/obo/CL_0000860",
         "Classical monocytes",
         "22852",
         "0.0188526024367348"
        ],
        [
         "17",
         "azimuth",
         "http://purl.obolibrary.org/obo/CL_0000236",
         "B cells",
         "20870",
         "0.0104417139916664"
        ],
        [
         "18",
         "azimuth",
         "http://purl.obolibrary.org/obo/CL_0002399",
         "DC2",
         "20544",
         "0.0100609857055594"
        ],
        [
         "19",
         "azimuth",
         "https://purl.org/ccf/ASCTB-TEMP_monocyte-derived-m",
         "Monocyte-derived M��",
         "19958",
         "0.0342881843851937"
        ],
        [
         "20",
         "azimuth",
         "https://purl.org/ccf/ASCTB-TEMP_non-classical-monocytes",
         "Non-classical monocytes",
         "18980",
         "0.0227555121100493"
        ],
        [
         "21",
         "azimuth",
         "http://purl.obolibrary.org/obo/CL_0009086",
         "Lymphatic EC mature",
         "15554",
         "0.0085443348664342"
        ],
        [
         "22",
         "azimuth",
         "http://purl.obolibrary.org/obo/CL_0000186",
         "Myofibroblasts",
         "15056",
         "0.0084766562206327"
        ],
        [
         "23",
         "azimuth",
         "http://purl.obolibrary.org/obo/CL_0009086",
         "Lymphatic EC differentiating",
         "14774",
         "0.0118739352863481"
        ],
        [
         "24",
         "azimuth",
         "https://purl.org/ccf/ASCTB-TEMP_transitional-club-at2",
         "Transitional Club-AT2",
         "9862",
         "0.0083977885418443"
        ],
        [
         "25",
         "azimuth",
         "http://purl.obolibrary.org/obo/CL_0000097",
         "Mast cells",
         "8168",
         "0.0037128110512404"
        ],
        [
         "26",
         "azimuth",
         "http://purl.obolibrary.org/obo/CL_0000623",
         "NK cells",
         "5564",
         "0.0026832520708695"
        ],
        [
         "27",
         "azimuth",
         "http://purl.obolibrary.org/obo/CL_0002480",
         "Goblet (nasal)",
         "4122",
         "0.0012606919315464"
        ],
        [
         "28",
         "azimuth",
         "https://purl.org/ccf/ASCTB-TEMP_interstitial-m-perivascular",
         "Interstitial M�� perivascular",
         "3952",
         "0.0100315000895945"
        ],
        [
         "29",
         "azimuth",
         "http://purl.obolibrary.org/obo/CL_4033008",
         "EC venous pulmonary",
         "3330",
         "0.0088656381891143"
        ],
        [
         "30",
         "azimuth",
         "http://purl.obolibrary.org/obo/CL_0000786",
         "Plasma cells",
         "2622",
         "0.0024433893813031"
        ],
        [
         "31",
         "azimuth",
         "http://purl.obolibrary.org/obo/CL_0000158",
         "Club (nasal)",
         "1748",
         "0.000720617370471646"
        ],
        [
         "32",
         "azimuth",
         "http://purl.obolibrary.org/obo/CL_0002241",
         "Peribronchial fibroblasts",
         "1574",
         "0.0117996090086894"
        ],
        [
         "33",
         "azimuth",
         "http://purl.obolibrary.org/obo/CL_0000158",
         "Club (non-nasal)",
         "1110",
         "0.0030049567318302"
        ],
        [
         "34",
         "azimuth",
         "https://purl.org/ccf/ASCTB-TEMP_alveolar-m-proliferating",
         "Alveolar M�� proliferating",
         "956",
         "0.0088278719644287"
        ],
        [
         "35",
         "azimuth",
         "http://purl.obolibrary.org/obo/CL_0001058",
         "Plasmacytoid DCs",
         "934",
         "0.0003575236523047708"
        ],
        [
         "36",
         "azimuth",
         "http://purl.obolibrary.org/obo/CL_0000192",
         "SM activated stress response",
         "898",
         "0.0100954552980922"
        ],
        [
         "37",
         "azimuth",
         "http://purl.obolibrary.org/obo/CL_4033048",
         "Suprabasal",
         "848",
         "0.00044717003929301897"
        ],
        [
         "38",
         "azimuth",
         "http://purl.obolibrary.org/obo/CL_0002075",
         "Tuft",
         "768",
         "0.0003758742541947934"
        ],
        [
         "39",
         "azimuth",
         "http://purl.obolibrary.org/obo/CL_4033005",
         "SMG serous (bronchial)",
         "500",
         "0.0038755408335726"
        ],
        [
         "40",
         "azimuth",
         "http://purl.obolibrary.org/obo/CL_4033044",
         "Deuterosomal",
         "322",
         "0.000236788334019112"
        ],
        [
         "41",
         "azimuth",
         "http://purl.obolibrary.org/obo/CL_0005012",
         "Multiciliated (nasal)",
         "286",
         "0.0019995751776738"
        ],
        [
         "42",
         "azimuth",
         "http://purl.obolibrary.org/obo/CL_0019003",
         "Goblet (bronchial)",
         "230",
         "0.0021318959641074"
        ],
        [
         "43",
         "azimuth",
         "http://purl.obolibrary.org/obo/CL_0000084",
         "T cells proliferating",
         "228",
         "0.0008092430764660432"
        ],
        [
         "44",
         "azimuth",
         "http://purl.obolibrary.org/obo/CL_4033023",
         "SMG duct",
         "116",
         "0.0003172333489489552"
        ],
        [
         "45",
         "azimuth",
         "http://purl.obolibrary.org/obo/CL_4033022",
         "SMG mucous",
         "104",
         "0.00028285920774720214"
        ],
        [
         "46",
         "azimuth",
         "http://purl.obolibrary.org/obo/CL_0000313",
         "SMG serous (nasal)",
         "68",
         "6.745705534741918e-05"
        ],
        [
         "47",
         "azimuth",
         "https://purl.org/ccf/ASCTB-TEMP_alveolar-m-ccl3-",
         "Alveolar M�� CCL3+",
         "22",
         "0.0010700125083407"
        ],
        [
         "48",
         "azimuth",
         "http://purl.obolibrary.org/obo/CL_1000491",
         "Mesothelium",
         "10",
         "0.00031862265570051067"
        ],
        [
         "49",
         "azimuth",
         "http://purl.obolibrary.org/obo/CL_4033045",
         "Migratory DCs",
         "6",
         "0.0003127280308558324"
        ]
       ],
       "shape": {
        "columns": 5,
        "rows": 146
       }
      },
      "text/html": [
       "<div>\n",
       "<style scoped>\n",
       "    .dataframe tbody tr th:only-of-type {\n",
       "        vertical-align: middle;\n",
       "    }\n",
       "\n",
       "    .dataframe tbody tr th {\n",
       "        vertical-align: top;\n",
       "    }\n",
       "\n",
       "    .dataframe thead th {\n",
       "        text-align: right;\n",
       "    }\n",
       "</style>\n",
       "<table border=\"1\" class=\"dataframe\">\n",
       "  <thead>\n",
       "    <tr style=\"text-align: right;\">\n",
       "      <th></th>\n",
       "      <th>tool</th>\n",
       "      <th>cell_id</th>\n",
       "      <th>cell_label</th>\n",
       "      <th>count</th>\n",
       "      <th>avg_percentage_of_total</th>\n",
       "    </tr>\n",
       "  </thead>\n",
       "  <tbody>\n",
       "    <tr>\n",
       "      <th>0</th>\n",
       "      <td>azimuth</td>\n",
       "      <td>http://purl.obolibrary.org/obo/CL_4028002</td>\n",
       "      <td>EC general capillary</td>\n",
       "      <td>1067664</td>\n",
       "      <td>0.183314</td>\n",
       "    </tr>\n",
       "    <tr>\n",
       "      <th>1</th>\n",
       "      <td>azimuth</td>\n",
       "      <td>http://purl.obolibrary.org/obo/CL_0002062</td>\n",
       "      <td>AT1</td>\n",
       "      <td>692194</td>\n",
       "      <td>0.149474</td>\n",
       "    </tr>\n",
       "    <tr>\n",
       "      <th>2</th>\n",
       "      <td>azimuth</td>\n",
       "      <td>http://purl.obolibrary.org/obo/CL_0002063</td>\n",
       "      <td>AT2</td>\n",
       "      <td>330530</td>\n",
       "      <td>0.150459</td>\n",
       "    </tr>\n",
       "    <tr>\n",
       "      <th>3</th>\n",
       "      <td>azimuth</td>\n",
       "      <td>http://purl.obolibrary.org/obo/CL_0002145</td>\n",
       "      <td>Multiciliated (non-nasal)</td>\n",
       "      <td>290708</td>\n",
       "      <td>0.048467</td>\n",
       "    </tr>\n",
       "    <tr>\n",
       "      <th>4</th>\n",
       "      <td>azimuth</td>\n",
       "      <td>http://purl.obolibrary.org/obo/CL_0000624</td>\n",
       "      <td>CD4 T cells</td>\n",
       "      <td>202292</td>\n",
       "      <td>0.046190</td>\n",
       "    </tr>\n",
       "    <tr>\n",
       "      <th>...</th>\n",
       "      <td>...</td>\n",
       "      <td>...</td>\n",
       "      <td>...</td>\n",
       "      <td>...</td>\n",
       "      <td>...</td>\n",
       "    </tr>\n",
       "    <tr>\n",
       "      <th>141</th>\n",
       "      <td>popv</td>\n",
       "      <td>http://purl.obolibrary.org/obo/CL_0017000</td>\n",
       "      <td>pulmonary ionocyte</td>\n",
       "      <td>56</td>\n",
       "      <td>0.000247</td>\n",
       "    </tr>\n",
       "    <tr>\n",
       "      <th>142</th>\n",
       "      <td>popv</td>\n",
       "      <td>http://purl.obolibrary.org/obo/CL_0000784</td>\n",
       "      <td>plasmacytoid dendritic cell</td>\n",
       "      <td>42</td>\n",
       "      <td>0.000483</td>\n",
       "    </tr>\n",
       "    <tr>\n",
       "      <th>143</th>\n",
       "      <td>popv</td>\n",
       "      <td>http://purl.obolibrary.org/obo/CL_0000071</td>\n",
       "      <td>blood vessel endothelial cell</td>\n",
       "      <td>18</td>\n",
       "      <td>0.000174</td>\n",
       "    </tr>\n",
       "    <tr>\n",
       "      <th>144</th>\n",
       "      <td>popv</td>\n",
       "      <td>http://purl.obolibrary.org/obo/CL_0000192</td>\n",
       "      <td>smooth muscle cell</td>\n",
       "      <td>16</td>\n",
       "      <td>0.001355</td>\n",
       "    </tr>\n",
       "    <tr>\n",
       "      <th>145</th>\n",
       "      <td>popv</td>\n",
       "      <td>http://purl.obolibrary.org/obo/CL_0000077</td>\n",
       "      <td>mesothelial cell</td>\n",
       "      <td>12</td>\n",
       "      <td>0.000317</td>\n",
       "    </tr>\n",
       "  </tbody>\n",
       "</table>\n",
       "<p>146 rows × 5 columns</p>\n",
       "</div>"
      ],
      "text/plain": [
       "        tool                                    cell_id  \\\n",
       "0    azimuth  http://purl.obolibrary.org/obo/CL_4028002   \n",
       "1    azimuth  http://purl.obolibrary.org/obo/CL_0002062   \n",
       "2    azimuth  http://purl.obolibrary.org/obo/CL_0002063   \n",
       "3    azimuth  http://purl.obolibrary.org/obo/CL_0002145   \n",
       "4    azimuth  http://purl.obolibrary.org/obo/CL_0000624   \n",
       "..       ...                                        ...   \n",
       "141     popv  http://purl.obolibrary.org/obo/CL_0017000   \n",
       "142     popv  http://purl.obolibrary.org/obo/CL_0000784   \n",
       "143     popv  http://purl.obolibrary.org/obo/CL_0000071   \n",
       "144     popv  http://purl.obolibrary.org/obo/CL_0000192   \n",
       "145     popv  http://purl.obolibrary.org/obo/CL_0000077   \n",
       "\n",
       "                        cell_label    count  avg_percentage_of_total  \n",
       "0             EC general capillary  1067664                 0.183314  \n",
       "1                              AT1   692194                 0.149474  \n",
       "2                              AT2   330530                 0.150459  \n",
       "3        Multiciliated (non-nasal)   290708                 0.048467  \n",
       "4                      CD4 T cells   202292                 0.046190  \n",
       "..                             ...      ...                      ...  \n",
       "141             pulmonary ionocyte       56                 0.000247  \n",
       "142    plasmacytoid dendritic cell       42                 0.000483  \n",
       "143  blood vessel endothelial cell       18                 0.000174  \n",
       "144             smooth muscle cell       16                 0.001355  \n",
       "145               mesothelial cell       12                 0.000317  \n",
       "\n",
       "[146 rows x 5 columns]"
      ]
     },
     "execution_count": 6,
     "metadata": {},
     "output_type": "execute_result"
    }
   ],
   "source": [
    "#  A table with CT by CTann tool:\n",
    "df_lung_ctann_cell_summaries= pd.read_csv(f'https://raw.githubusercontent.com/x-atlas-consortia/hra-pop/refs/heads/main/output-data/{hra_pop_version}/reports/atlas-ad-hoc/lung-ctann-cell-summaries.csv')\n",
    "df_lung_ctann_cell_summaries"
   ]
  },
  {
   "cell_type": "code",
   "execution_count": 7,
   "metadata": {},
   "outputs": [
    {
     "data": {
      "application/vnd.microsoft.datawrangler.viewer.v0+json": {
       "columns": [
        {
         "name": "index",
         "rawType": "int64",
         "type": "integer"
        },
        {
         "name": "dataset",
         "rawType": "object",
         "type": "string"
        },
        {
         "name": "tool",
         "rawType": "object",
         "type": "string"
        },
        {
         "name": "cell_id",
         "rawType": "object",
         "type": "string"
        },
        {
         "name": "cell_label",
         "rawType": "object",
         "type": "string"
        },
        {
         "name": "count",
         "rawType": "int64",
         "type": "integer"
        },
        {
         "name": "percentage_of_total",
         "rawType": "float64",
         "type": "float"
        }
       ],
       "conversionMethod": "pd.DataFrame",
       "ref": "2aceea73-3c57-4912-92fe-f9aee09d6fc6",
       "rows": [
        [
         "0",
         "https://api.cellxgene.cziscience.com/dp/v1/collections/625f6bf4-2f33-4942-962e-35243d284837#D032$lung",
         "azimuth",
         "http://purl.obolibrary.org/obo/CL_0002063",
         "AT2",
         "838",
         "0.1686116700201207"
        ],
        [
         "1",
         "https://api.cellxgene.cziscience.com/dp/v1/collections/625f6bf4-2f33-4942-962e-35243d284837#D032$lung",
         "azimuth",
         "http://purl.obolibrary.org/obo/CL_0002062",
         "AT1",
         "740",
         "0.1488933601609658"
        ],
        [
         "2",
         "https://api.cellxgene.cziscience.com/dp/v1/collections/625f6bf4-2f33-4942-962e-35243d284837#D032$lung",
         "azimuth",
         "http://purl.obolibrary.org/obo/CL_0000583",
         "Alveolar macrophages",
         "697",
         "0.1402414486921529"
        ],
        [
         "3",
         "https://api.cellxgene.cziscience.com/dp/v1/collections/625f6bf4-2f33-4942-962e-35243d284837#D032$lung",
         "azimuth",
         "http://purl.obolibrary.org/obo/CL_4028002",
         "EC general capillary",
         "473",
         "0.0951710261569416"
        ],
        [
         "4",
         "https://api.cellxgene.cziscience.com/dp/v1/collections/625f6bf4-2f33-4942-962e-35243d284837#D032$lung",
         "azimuth",
         "http://purl.obolibrary.org/obo/CL_4028004",
         "Alveolar fibroblasts",
         "470",
         "0.0945674044265593"
        ],
        [
         "5",
         "https://api.cellxgene.cziscience.com/dp/v1/collections/625f6bf4-2f33-4942-962e-35243d284837#D032$lung",
         "azimuth",
         "http://purl.obolibrary.org/obo/CL_0000624",
         "CD4 T cells",
         "229",
         "0.046076458752515"
        ],
        [
         "6",
         "https://api.cellxgene.cziscience.com/dp/v1/collections/625f6bf4-2f33-4942-962e-35243d284837#D032$lung",
         "azimuth",
         "https://purl.org/ccf/ASCTB-TEMP_non-classical-monocytes",
         "Non-classical monocytes",
         "212",
         "0.042655935613682"
        ],
        [
         "7",
         "https://api.cellxgene.cziscience.com/dp/v1/collections/625f6bf4-2f33-4942-962e-35243d284837#D032$lung",
         "azimuth",
         "http://purl.obolibrary.org/obo/CL_0000625",
         "CD8 T cells",
         "205",
         "0.0412474849094567"
        ],
        [
         "8",
         "https://api.cellxgene.cziscience.com/dp/v1/collections/625f6bf4-2f33-4942-962e-35243d284837#D032$lung",
         "azimuth",
         "http://purl.obolibrary.org/obo/CL_4028003",
         "EC aerocyte capillary",
         "199",
         "0.0400402414486921"
        ],
        [
         "9",
         "https://api.cellxgene.cziscience.com/dp/v1/collections/625f6bf4-2f33-4942-962e-35243d284837#D032$lung",
         "azimuth",
         "http://purl.obolibrary.org/obo/CL_4028006",
         "Adventitial fibroblasts",
         "167",
         "0.0336016096579476"
        ],
        [
         "10",
         "https://api.cellxgene.cziscience.com/dp/v1/collections/625f6bf4-2f33-4942-962e-35243d284837#D032$lung",
         "azimuth",
         "http://purl.obolibrary.org/obo/CL_0002145",
         "Multiciliated (non-nasal)",
         "143",
         "0.0287726358148893"
        ],
        [
         "11",
         "https://api.cellxgene.cziscience.com/dp/v1/collections/625f6bf4-2f33-4942-962e-35243d284837#D032$lung",
         "azimuth",
         "http://purl.obolibrary.org/obo/CL_0009086",
         "Lymphatic EC differentiating",
         "142",
         "0.0285714285714285"
        ],
        [
         "12",
         "https://api.cellxgene.cziscience.com/dp/v1/collections/625f6bf4-2f33-4942-962e-35243d284837#D032$lung",
         "azimuth",
         "http://purl.obolibrary.org/obo/CL_0009089",
         "Pericytes",
         "111",
         "0.0223340040241448"
        ],
        [
         "13",
         "https://api.cellxgene.cziscience.com/dp/v1/collections/625f6bf4-2f33-4942-962e-35243d284837#D032$lung",
         "azimuth",
         "http://purl.obolibrary.org/obo/CL_0002399",
         "DC2",
         "53",
         "0.0106639839034205"
        ],
        [
         "14",
         "https://api.cellxgene.cziscience.com/dp/v1/collections/625f6bf4-2f33-4942-962e-35243d284837#D032$lung",
         "azimuth",
         "http://purl.obolibrary.org/obo/CL_0000236",
         "B cells",
         "50",
         "0.0100603621730382"
        ],
        [
         "15",
         "https://api.cellxgene.cziscience.com/dp/v1/collections/625f6bf4-2f33-4942-962e-35243d284837#D032$lung",
         "azimuth",
         "https://purl.org/ccf/ASCTB-TEMP_transitional-club-at2",
         "Transitional Club-AT2",
         "47",
         "0.0094567404426559"
        ],
        [
         "16",
         "https://api.cellxgene.cziscience.com/dp/v1/collections/625f6bf4-2f33-4942-962e-35243d284837#D032$lung",
         "azimuth",
         "https://purl.org/ccf/ASCTB-TEMP_interstitial-m-perivascular",
         "Interstitial M�� perivascular",
         "42",
         "0.0084507042253521"
        ],
        [
         "17",
         "https://api.cellxgene.cziscience.com/dp/v1/collections/625f6bf4-2f33-4942-962e-35243d284837#D032$lung",
         "azimuth",
         "https://purl.org/ccf/ASCTB-TEMP_monocyte-derived-m",
         "Monocyte-derived M��",
         "39",
         "0.0078470824949698"
        ],
        [
         "18",
         "https://api.cellxgene.cziscience.com/dp/v1/collections/625f6bf4-2f33-4942-962e-35243d284837#D032$lung",
         "azimuth",
         "http://purl.obolibrary.org/obo/CL_0000860",
         "Classical monocytes",
         "36",
         "0.0072434607645875"
        ],
        [
         "19",
         "https://api.cellxgene.cziscience.com/dp/v1/collections/625f6bf4-2f33-4942-962e-35243d284837#D032$lung",
         "azimuth",
         "http://purl.obolibrary.org/obo/CL_0000186",
         "Myofibroblasts",
         "34",
         "0.0068410462776659"
        ],
        [
         "20",
         "https://api.cellxgene.cziscience.com/dp/v1/collections/625f6bf4-2f33-4942-962e-35243d284837#D032$lung",
         "azimuth",
         "http://purl.obolibrary.org/obo/CL_0000097",
         "Mast cells",
         "13",
         "0.0026156941649899"
        ],
        [
         "21",
         "https://api.cellxgene.cziscience.com/dp/v1/collections/625f6bf4-2f33-4942-962e-35243d284837#D032$lung",
         "azimuth",
         "http://purl.obolibrary.org/obo/CL_1001568",
         "EC arterial",
         "13",
         "0.0026156941649899"
        ],
        [
         "22",
         "https://api.cellxgene.cziscience.com/dp/v1/collections/625f6bf4-2f33-4942-962e-35243d284837#D032$lung",
         "azimuth",
         "http://purl.obolibrary.org/obo/CL_4033008",
         "EC venous pulmonary",
         "7",
         "0.0014084507042253"
        ],
        [
         "23",
         "https://api.cellxgene.cziscience.com/dp/v1/collections/625f6bf4-2f33-4942-962e-35243d284837#D032$lung",
         "azimuth",
         "http://purl.obolibrary.org/obo/CL_0017000",
         "Ionocyte",
         "6",
         "0.0012072434607645"
        ],
        [
         "24",
         "https://api.cellxgene.cziscience.com/dp/v1/collections/625f6bf4-2f33-4942-962e-35243d284837#D032$lung",
         "azimuth",
         "http://purl.obolibrary.org/obo/CL_0000192",
         "Smooth muscle",
         "4",
         "0.0008048289738430583"
        ],
        [
         "25",
         "https://api.cellxgene.cziscience.com/dp/v1/collections/625f6bf4-2f33-4942-962e-35243d284837#D032$lung",
         "celltypist",
         "http://purl.obolibrary.org/obo/CL_0000583",
         "Alveolar macrophages",
         "916",
         "0.1843058350100604"
        ],
        [
         "26",
         "https://api.cellxgene.cziscience.com/dp/v1/collections/625f6bf4-2f33-4942-962e-35243d284837#D032$lung",
         "celltypist",
         "http://purl.obolibrary.org/obo/CL_0002063",
         "AT2",
         "786",
         "0.158148893360161"
        ],
        [
         "27",
         "https://api.cellxgene.cziscience.com/dp/v1/collections/625f6bf4-2f33-4942-962e-35243d284837#D032$lung",
         "celltypist",
         "http://purl.obolibrary.org/obo/CL_0002062",
         "AT1",
         "438",
         "0.0881287726358149"
        ],
        [
         "28",
         "https://api.cellxgene.cziscience.com/dp/v1/collections/625f6bf4-2f33-4942-962e-35243d284837#D032$lung",
         "celltypist",
         "http://purl.obolibrary.org/obo/CL_4028004",
         "Alveolar fibroblasts",
         "381",
         "0.0766599597585513"
        ],
        [
         "29",
         "https://api.cellxgene.cziscience.com/dp/v1/collections/625f6bf4-2f33-4942-962e-35243d284837#D032$lung",
         "celltypist",
         "http://purl.obolibrary.org/obo/CL_0000492",
         "CD4 T cells",
         "346",
         "0.0696177062374245"
        ],
        [
         "30",
         "https://api.cellxgene.cziscience.com/dp/v1/collections/625f6bf4-2f33-4942-962e-35243d284837#D032$lung",
         "celltypist",
         "http://purl.obolibrary.org/obo/CL_0019001",
         "pre-TB secretory",
         "256",
         "0.0515090543259557"
        ],
        [
         "31",
         "https://api.cellxgene.cziscience.com/dp/v1/collections/625f6bf4-2f33-4942-962e-35243d284837#D032$lung",
         "celltypist",
         "http://purl.obolibrary.org/obo/CL_4028003",
         "EC aerocyte capillary",
         "209",
         "0.0420523138832998"
        ],
        [
         "32",
         "https://api.cellxgene.cziscience.com/dp/v1/collections/625f6bf4-2f33-4942-962e-35243d284837#D032$lung",
         "celltypist",
         "http://purl.obolibrary.org/obo/CL_0000875",
         "Non-classical monocytes",
         "203",
         "0.0408450704225352"
        ],
        [
         "33",
         "https://api.cellxgene.cziscience.com/dp/v1/collections/625f6bf4-2f33-4942-962e-35243d284837#D032$lung",
         "celltypist",
         "http://purl.obolibrary.org/obo/CL_0005012",
         "Multiciliated (nasal)",
         "173",
         "0.0348088531187122"
        ],
        [
         "34",
         "https://api.cellxgene.cziscience.com/dp/v1/collections/625f6bf4-2f33-4942-962e-35243d284837#D032$lung",
         "celltypist",
         "http://purl.obolibrary.org/obo/CL_1001603",
         "Monocyte-derived Mph",
         "159",
         "0.0319919517102615"
        ],
        [
         "35",
         "https://api.cellxgene.cziscience.com/dp/v1/collections/625f6bf4-2f33-4942-962e-35243d284837#D032$lung",
         "celltypist",
         "http://purl.obolibrary.org/obo/CL_0002138",
         "Lymphatic EC differentiating",
         "156",
         "0.0313883299798792"
        ],
        [
         "36",
         "https://api.cellxgene.cziscience.com/dp/v1/collections/625f6bf4-2f33-4942-962e-35243d284837#D032$lung",
         "celltypist",
         "http://purl.obolibrary.org/obo/CL_0002144",
         "EC general capillary",
         "117",
         "0.0235412474849094"
        ],
        [
         "37",
         "https://api.cellxgene.cziscience.com/dp/v1/collections/625f6bf4-2f33-4942-962e-35243d284837#D032$lung",
         "celltypist",
         "http://purl.obolibrary.org/obo/CL_4028006",
         "Adventitial fibroblasts",
         "114",
         "0.0229376257545271"
        ],
        [
         "38",
         "https://api.cellxgene.cziscience.com/dp/v1/collections/625f6bf4-2f33-4942-962e-35243d284837#D032$lung",
         "celltypist",
         "http://purl.obolibrary.org/obo/CL_4033043",
         "Interstitial Mph perivascular",
         "111",
         "0.0223340040241448"
        ],
        [
         "39",
         "https://api.cellxgene.cziscience.com/dp/v1/collections/625f6bf4-2f33-4942-962e-35243d284837#D032$lung",
         "celltypist",
         "http://purl.obolibrary.org/obo/CL_0000669",
         "Pericytes",
         "101",
         "0.0203219315895372"
        ],
        [
         "40",
         "https://api.cellxgene.cziscience.com/dp/v1/collections/625f6bf4-2f33-4942-962e-35243d284837#D032$lung",
         "celltypist",
         "http://purl.obolibrary.org/obo/CL_0010003",
         "AT0",
         "80",
         "0.0160965794768611"
        ],
        [
         "41",
         "https://api.cellxgene.cziscience.com/dp/v1/collections/625f6bf4-2f33-4942-962e-35243d284837#D032$lung",
         "celltypist",
         "http://purl.obolibrary.org/obo/CL_0002633",
         "Basal resting",
         "53",
         "0.0106639839034205"
        ],
        [
         "42",
         "https://api.cellxgene.cziscience.com/dp/v1/collections/625f6bf4-2f33-4942-962e-35243d284837#D032$lung",
         "celltypist",
         "http://purl.obolibrary.org/obo/CL_0000158",
         "Hillock-like",
         "49",
         "0.0098591549295774"
        ],
        [
         "43",
         "https://api.cellxgene.cziscience.com/dp/v1/collections/625f6bf4-2f33-4942-962e-35243d284837#D032$lung",
         "celltypist",
         "http://purl.obolibrary.org/obo/CL_0000192",
         "Smooth muscle",
         "48",
         "0.0096579476861167"
        ],
        [
         "44",
         "https://api.cellxgene.cziscience.com/dp/v1/collections/625f6bf4-2f33-4942-962e-35243d284837#D032$lung",
         "celltypist",
         "http://purl.obolibrary.org/obo/CL_0000236",
         "B cells",
         "43",
         "0.0086519114688128"
        ],
        [
         "45",
         "https://api.cellxgene.cziscience.com/dp/v1/collections/625f6bf4-2f33-4942-962e-35243d284837#D032$lung",
         "celltypist",
         "http://purl.obolibrary.org/obo/CL_0002399",
         "DC2",
         "32",
         "0.0064386317907444"
        ],
        [
         "46",
         "https://api.cellxgene.cziscience.com/dp/v1/collections/625f6bf4-2f33-4942-962e-35243d284837#D032$lung",
         "celltypist",
         "http://purl.obolibrary.org/obo/CL_1000413",
         "EC arterial",
         "25",
         "0.0050301810865191"
        ],
        [
         "47",
         "https://api.cellxgene.cziscience.com/dp/v1/collections/625f6bf4-2f33-4942-962e-35243d284837#D032$lung",
         "celltypist",
         "http://purl.obolibrary.org/obo/CL_0000186",
         "Myofibroblasts",
         "21",
         "0.004225352112676"
        ],
        [
         "48",
         "https://api.cellxgene.cziscience.com/dp/v1/collections/625f6bf4-2f33-4942-962e-35243d284837#D032$lung",
         "celltypist",
         "http://purl.obolibrary.org/obo/CL_0000913",
         "CD8 T cells",
         "21",
         "0.004225352112676"
        ],
        [
         "49",
         "https://api.cellxgene.cziscience.com/dp/v1/collections/625f6bf4-2f33-4942-962e-35243d284837#D032$lung",
         "celltypist",
         "http://purl.obolibrary.org/obo/CL_0000623",
         "NK cells",
         "18",
         "0.0036217303822937"
        ]
       ],
       "shape": {
        "columns": 6,
        "rows": 5505
       }
      },
      "text/html": [
       "<div>\n",
       "<style scoped>\n",
       "    .dataframe tbody tr th:only-of-type {\n",
       "        vertical-align: middle;\n",
       "    }\n",
       "\n",
       "    .dataframe tbody tr th {\n",
       "        vertical-align: top;\n",
       "    }\n",
       "\n",
       "    .dataframe thead th {\n",
       "        text-align: right;\n",
       "    }\n",
       "</style>\n",
       "<table border=\"1\" class=\"dataframe\">\n",
       "  <thead>\n",
       "    <tr style=\"text-align: right;\">\n",
       "      <th></th>\n",
       "      <th>dataset</th>\n",
       "      <th>tool</th>\n",
       "      <th>cell_id</th>\n",
       "      <th>cell_label</th>\n",
       "      <th>count</th>\n",
       "      <th>percentage_of_total</th>\n",
       "    </tr>\n",
       "  </thead>\n",
       "  <tbody>\n",
       "    <tr>\n",
       "      <th>0</th>\n",
       "      <td>https://api.cellxgene.cziscience.com/dp/v1/col...</td>\n",
       "      <td>azimuth</td>\n",
       "      <td>http://purl.obolibrary.org/obo/CL_0002063</td>\n",
       "      <td>AT2</td>\n",
       "      <td>838</td>\n",
       "      <td>0.168612</td>\n",
       "    </tr>\n",
       "    <tr>\n",
       "      <th>1</th>\n",
       "      <td>https://api.cellxgene.cziscience.com/dp/v1/col...</td>\n",
       "      <td>azimuth</td>\n",
       "      <td>http://purl.obolibrary.org/obo/CL_0002062</td>\n",
       "      <td>AT1</td>\n",
       "      <td>740</td>\n",
       "      <td>0.148893</td>\n",
       "    </tr>\n",
       "    <tr>\n",
       "      <th>2</th>\n",
       "      <td>https://api.cellxgene.cziscience.com/dp/v1/col...</td>\n",
       "      <td>azimuth</td>\n",
       "      <td>http://purl.obolibrary.org/obo/CL_0000583</td>\n",
       "      <td>Alveolar macrophages</td>\n",
       "      <td>697</td>\n",
       "      <td>0.140241</td>\n",
       "    </tr>\n",
       "    <tr>\n",
       "      <th>3</th>\n",
       "      <td>https://api.cellxgene.cziscience.com/dp/v1/col...</td>\n",
       "      <td>azimuth</td>\n",
       "      <td>http://purl.obolibrary.org/obo/CL_4028002</td>\n",
       "      <td>EC general capillary</td>\n",
       "      <td>473</td>\n",
       "      <td>0.095171</td>\n",
       "    </tr>\n",
       "    <tr>\n",
       "      <th>4</th>\n",
       "      <td>https://api.cellxgene.cziscience.com/dp/v1/col...</td>\n",
       "      <td>azimuth</td>\n",
       "      <td>http://purl.obolibrary.org/obo/CL_4028004</td>\n",
       "      <td>Alveolar fibroblasts</td>\n",
       "      <td>470</td>\n",
       "      <td>0.094567</td>\n",
       "    </tr>\n",
       "    <tr>\n",
       "      <th>...</th>\n",
       "      <td>...</td>\n",
       "      <td>...</td>\n",
       "      <td>...</td>\n",
       "      <td>...</td>\n",
       "      <td>...</td>\n",
       "      <td>...</td>\n",
       "    </tr>\n",
       "    <tr>\n",
       "      <th>5500</th>\n",
       "      <td>https://entity.api.sennetconsortium.org/entiti...</td>\n",
       "      <td>popv</td>\n",
       "      <td>http://purl.obolibrary.org/obo/CL_2000016</td>\n",
       "      <td>lung microvascular endothelial cell</td>\n",
       "      <td>4</td>\n",
       "      <td>0.001188</td>\n",
       "    </tr>\n",
       "    <tr>\n",
       "      <th>5501</th>\n",
       "      <td>https://entity.api.sennetconsortium.org/entiti...</td>\n",
       "      <td>popv</td>\n",
       "      <td>http://purl.obolibrary.org/obo/CL_0001050</td>\n",
       "      <td>effector CD8-positive, alpha-beta T cell</td>\n",
       "      <td>4</td>\n",
       "      <td>0.001188</td>\n",
       "    </tr>\n",
       "    <tr>\n",
       "      <th>5502</th>\n",
       "      <td>https://entity.api.sennetconsortium.org/entiti...</td>\n",
       "      <td>popv</td>\n",
       "      <td>http://purl.obolibrary.org/obo/CL_0002393</td>\n",
       "      <td>intermediate monocyte</td>\n",
       "      <td>3</td>\n",
       "      <td>0.000891</td>\n",
       "    </tr>\n",
       "    <tr>\n",
       "      <th>5503</th>\n",
       "      <td>https://entity.api.sennetconsortium.org/entiti...</td>\n",
       "      <td>popv</td>\n",
       "      <td>http://purl.obolibrary.org/obo/CL_0002062</td>\n",
       "      <td>type I pneumocyte</td>\n",
       "      <td>2</td>\n",
       "      <td>0.000594</td>\n",
       "    </tr>\n",
       "    <tr>\n",
       "      <th>5504</th>\n",
       "      <td>https://entity.api.sennetconsortium.org/entiti...</td>\n",
       "      <td>popv</td>\n",
       "      <td>http://purl.obolibrary.org/obo/CL_0002598</td>\n",
       "      <td>bronchial smooth muscle cell</td>\n",
       "      <td>1</td>\n",
       "      <td>0.000297</td>\n",
       "    </tr>\n",
       "  </tbody>\n",
       "</table>\n",
       "<p>5505 rows × 6 columns</p>\n",
       "</div>"
      ],
      "text/plain": [
       "                                                dataset     tool  \\\n",
       "0     https://api.cellxgene.cziscience.com/dp/v1/col...  azimuth   \n",
       "1     https://api.cellxgene.cziscience.com/dp/v1/col...  azimuth   \n",
       "2     https://api.cellxgene.cziscience.com/dp/v1/col...  azimuth   \n",
       "3     https://api.cellxgene.cziscience.com/dp/v1/col...  azimuth   \n",
       "4     https://api.cellxgene.cziscience.com/dp/v1/col...  azimuth   \n",
       "...                                                 ...      ...   \n",
       "5500  https://entity.api.sennetconsortium.org/entiti...     popv   \n",
       "5501  https://entity.api.sennetconsortium.org/entiti...     popv   \n",
       "5502  https://entity.api.sennetconsortium.org/entiti...     popv   \n",
       "5503  https://entity.api.sennetconsortium.org/entiti...     popv   \n",
       "5504  https://entity.api.sennetconsortium.org/entiti...     popv   \n",
       "\n",
       "                                        cell_id  \\\n",
       "0     http://purl.obolibrary.org/obo/CL_0002063   \n",
       "1     http://purl.obolibrary.org/obo/CL_0002062   \n",
       "2     http://purl.obolibrary.org/obo/CL_0000583   \n",
       "3     http://purl.obolibrary.org/obo/CL_4028002   \n",
       "4     http://purl.obolibrary.org/obo/CL_4028004   \n",
       "...                                         ...   \n",
       "5500  http://purl.obolibrary.org/obo/CL_2000016   \n",
       "5501  http://purl.obolibrary.org/obo/CL_0001050   \n",
       "5502  http://purl.obolibrary.org/obo/CL_0002393   \n",
       "5503  http://purl.obolibrary.org/obo/CL_0002062   \n",
       "5504  http://purl.obolibrary.org/obo/CL_0002598   \n",
       "\n",
       "                                    cell_label  count  percentage_of_total  \n",
       "0                                          AT2    838             0.168612  \n",
       "1                                          AT1    740             0.148893  \n",
       "2                         Alveolar macrophages    697             0.140241  \n",
       "3                         EC general capillary    473             0.095171  \n",
       "4                         Alveolar fibroblasts    470             0.094567  \n",
       "...                                        ...    ...                  ...  \n",
       "5500       lung microvascular endothelial cell      4             0.001188  \n",
       "5501  effector CD8-positive, alpha-beta T cell      4             0.001188  \n",
       "5502                     intermediate monocyte      3             0.000891  \n",
       "5503                         type I pneumocyte      2             0.000594  \n",
       "5504              bronchial smooth muscle cell      1             0.000297  \n",
       "\n",
       "[5505 rows x 6 columns]"
      ]
     },
     "execution_count": 7,
     "metadata": {},
     "output_type": "execute_result"
    }
   ],
   "source": [
    "#  for vis 2\n",
    "df_lung_dataset_cell_summaries_by_ctann = pd.read_csv(f'https://raw.githubusercontent.com/x-atlas-consortia/hra-pop/refs/heads/main/output-data/{hra_pop_version}/reports/atlas-ad-hoc/lung-dataset-cell-summaries-by-ctann.csv')\n",
    "df_lung_dataset_cell_summaries_by_ctann"
   ]
  },
  {
   "cell_type": "markdown",
   "metadata": {},
   "source": [
    "## Visualize"
   ]
  },
  {
   "cell_type": "code",
   "execution_count": 20,
   "metadata": {},
   "outputs": [
    {
     "ename": "TypeError",
     "evalue": "Axis.set_ticklabels() missing 1 required positional argument: 'labels'",
     "output_type": "error",
     "traceback": [
      "\u001b[31m---------------------------------------------------------------------------\u001b[39m",
      "\u001b[31mTypeError\u001b[39m                                 Traceback (most recent call last)",
      "\u001b[36mCell\u001b[39m\u001b[36m \u001b[39m\u001b[32mIn[20]\u001b[39m\u001b[32m, line 8\u001b[39m\n\u001b[32m      5\u001b[39m \u001b[38;5;66;03m# Plot grouped bars\u001b[39;00m\n\u001b[32m      6\u001b[39m g = sns.barplot(data=df_long, x=\u001b[33m'\u001b[39m\u001b[33mcell_label\u001b[39m\u001b[33m'\u001b[39m, y=\u001b[33m'\u001b[39m\u001b[33mcount\u001b[39m\u001b[33m'\u001b[39m, hue=\u001b[33m'\u001b[39m\u001b[33mtool\u001b[39m\u001b[33m'\u001b[39m)\n\u001b[32m----> \u001b[39m\u001b[32m8\u001b[39m \u001b[43mg\u001b[49m\u001b[43m.\u001b[49m\u001b[43mset_xticklabels\u001b[49m\u001b[43m(\u001b[49m\u001b[43mrotation\u001b[49m\u001b[43m=\u001b[49m\u001b[32;43m90\u001b[39;49m\u001b[43m)\u001b[49m\n",
      "\u001b[36mFile \u001b[39m\u001b[32mc:\\Users\\abueckle\\Documents\\GitHub\\hra-pop-notebooks\\.venv\\Lib\\site-packages\\matplotlib\\axes\\_base.py:74\u001b[39m, in \u001b[36m_axis_method_wrapper.__set_name__.<locals>.wrapper\u001b[39m\u001b[34m(self, *args, **kwargs)\u001b[39m\n\u001b[32m     73\u001b[39m \u001b[38;5;28;01mdef\u001b[39;00m\u001b[38;5;250m \u001b[39m\u001b[34mwrapper\u001b[39m(\u001b[38;5;28mself\u001b[39m, *args, **kwargs):\n\u001b[32m---> \u001b[39m\u001b[32m74\u001b[39m     \u001b[38;5;28;01mreturn\u001b[39;00m \u001b[43mget_method\u001b[49m\u001b[43m(\u001b[49m\u001b[38;5;28;43mself\u001b[39;49m\u001b[43m)\u001b[49m\u001b[43m(\u001b[49m\u001b[43m*\u001b[49m\u001b[43margs\u001b[49m\u001b[43m,\u001b[49m\u001b[43m \u001b[49m\u001b[43m*\u001b[49m\u001b[43m*\u001b[49m\u001b[43mkwargs\u001b[49m\u001b[43m)\u001b[49m\n",
      "\u001b[31mTypeError\u001b[39m: Axis.set_ticklabels() missing 1 required positional argument: 'labels'"
     ]
    },
    {
     "data": {
      "image/png": "[encoded data removed]",
      "text/plain": [
       "<Figure size 640x480 with 1 Axes>"
      ]
     },
     "metadata": {},
     "output_type": "display_data"
    }
   ],
   "source": [
    "# Melt to long format\n",
    "df_long = df_lung_ctann_cell_summaries.melt(id_vars=['cell_label','count', 'tool'], var_name='type', value_name='Value')\n",
    "df_long\n",
    "\n",
    "# Plot grouped bars\n",
    "g = sns.barplot(data=df_long, x='cell_label', y='count', hue='tool')\n",
    "\n",
    "g.set_xticklabels(rotation=90)"
   ]
  }
 ],
 "metadata": {
  "kernelspec": {
   "display_name": ".venv",
   "language": "python",
   "name": "python3"
  },
  "language_info": {
   "codemirror_mode": {
    "name": "ipython",
    "version": 3
   },
   "file_extension": ".py",
   "mimetype": "text/x-python",
   "name": "python",
   "nbconvert_exporter": "python",
   "pygments_lexer": "ipython3",
   "version": "3.12.4"
  }
 },
 "nbformat": 4,
 "nbformat_minor": 2
}
