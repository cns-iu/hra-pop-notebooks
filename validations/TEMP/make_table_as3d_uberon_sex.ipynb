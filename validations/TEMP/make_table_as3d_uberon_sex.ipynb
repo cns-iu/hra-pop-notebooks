{
 "cells": [
  {
   "cell_type": "markdown",
   "metadata": {},
   "source": [
    "# A noptebook to get a table with AS3D, UBERON ID, and Sex"
   ]
  },
  {
   "cell_type": "markdown",
   "metadata": {},
   "source": [
    "# Import libraries"
   ]
  },
  {
   "cell_type": "code",
   "execution_count": 54,
   "metadata": {},
   "outputs": [],
   "source": [
    "import requests\n",
    "import pandas as pd\n",
    "from io import StringIO"
   ]
  },
  {
   "cell_type": "markdown",
   "metadata": {},
   "source": [
    "# Write SPARQL query and make request"
   ]
  },
  {
   "cell_type": "code",
   "execution_count": 55,
   "metadata": {},
   "outputs": [
    {
     "name": "stdout",
     "output_type": "stream",
     "text": [
      "                                     as_label       uberon_id     sex  \\\n",
      "0     female abdominal ostium of uterine tube       FMA:77049  Female   \n",
      "1              female anterior wall of uterus      FMA:224876  Female   \n",
      "2                       female body of uterus  UBERON:0009853  Female   \n",
      "3                               female cervix  UBERON:0000002  Female   \n",
      "4                 female external cervical os  UBERON:0013760  Female   \n",
      "...                                       ...             ...     ...   \n",
      "1168       male long posterior ciliary artery       FMA:49957    Male   \n",
      "1169                male marginal artery of D       FMA:14824    Male   \n",
      "1170                  male median sacral vein  UBERON:0006687    Male   \n",
      "1171                 male middle cardiac vein  UBERON:0009687    Male   \n",
      "1172                 male middle colic artery  UBERON:0001196    Male   \n",
      "\n",
      "                                              ref_organ  \n",
      "0     https://purl.humanatlas.io/ref-organ/uterus-fe...  \n",
      "1     https://purl.humanatlas.io/ref-organ/uterus-fe...  \n",
      "2     https://purl.humanatlas.io/ref-organ/uterus-fe...  \n",
      "3     https://purl.humanatlas.io/ref-organ/uterus-fe...  \n",
      "4     https://purl.humanatlas.io/ref-organ/uterus-fe...  \n",
      "...                                                 ...  \n",
      "1168  https://purl.humanatlas.io/ref-organ/blood-vas...  \n",
      "1169  https://purl.humanatlas.io/ref-organ/blood-vas...  \n",
      "1170  https://purl.humanatlas.io/ref-organ/blood-vas...  \n",
      "1171  https://purl.humanatlas.io/ref-organ/blood-vas...  \n",
      "1172  https://purl.humanatlas.io/ref-organ/blood-vas...  \n",
      "\n",
      "[1173 rows x 4 columns]\n"
     ]
    }
   ],
   "source": [
    "query = '''PREFIX ccf: <http://purl.org/ccf/>\n",
    "PREFIX HRA: <https://purl.humanatlas.io/collection/hra>\n",
    "PREFIX rdfs: <http://www.w3.org/2000/01/rdf-schema#> \n",
    "PREFIX UBERON: <http://purl.obolibrary.org/obo/UBERON_>\n",
    "PREFIX FMA: <http://purl.org/sig/ont/fma/fma>\n",
    "\n",
    "SELECT DISTINCT ?as_label ?uberon_id ?sex ?ref_organ\n",
    "FROM HRA:\n",
    "FROM ccf:\n",
    "WHERE {\n",
    "  ?as_3d ccf:has_reference_organ ?ref_organ ;\n",
    "\t\trdfs:label ?as_label_long ;\n",
    "\t\tccf:organ_owner_sex ?sex;\n",
    "\t\tccf:representation_of ?as_id .\n",
    "\t\n",
    "\t# ?x ccf:ccf_pref_label ?organ_label ;\n",
    "\t#  ?ref_organ ccf:representation_of ?organIri .\n",
    "\t#  ?organ_iri ccf:ccf_pref_label ?organ_label .\n",
    "\n",
    "  FILTER(!CONTAINS(STR(?ref_organ), '/united-'))\n",
    "  FILTER (str(?as_3d) != str(?ref_organ))\n",
    "\tBIND(REPLACE(REPLACE(STR(?as_id), STR(UBERON:), 'UBERON:'), STR(FMA:), 'FMA:') as ?uberon_id)\n",
    "\tBIND(REPLACE(STR(?as_label_long), STR(\"Spatial entity of \"), '') as ?as_label)\n",
    "}\n",
    "'''\n",
    "\n",
    "# set endpoint\n",
    "sparql_endpoint = \"http://lod.humanatlas.io/sparql\"\n",
    "\n",
    "# Set up the parameters for the request\n",
    "params = {\n",
    "    \"query\": query,\n",
    "}\n",
    "\n",
    "headers = {\n",
    "    \"Accept\": \"text/csv\",\n",
    "    # \"Content-Type\": \"application/x-www-form-urlencoded\"\n",
    "}\n",
    "\n",
    "# Send the request to the SPARQL endpoint\n",
    "response = requests.get(sparql_endpoint, params=params, headers=headers)\n",
    "\n",
    "# Check if the request was successful\n",
    "if response.status_code == 200:\n",
    "    # Read the CSV response into a pandas DataFrame\n",
    "    csv_data = StringIO(response.text)\n",
    "    df = pd.read_csv(csv_data)\n",
    "    # Print the DataFrame\n",
    "    print(df)\n",
    "else:\n",
    "    print(f\"Error: {response.status_code}\")\n",
    "    print(response.text)"
   ]
  },
  {
   "cell_type": "markdown",
   "metadata": {},
   "source": [
    "# Export result to CSV"
   ]
  },
  {
   "cell_type": "code",
   "execution_count": 56,
   "metadata": {},
   "outputs": [],
   "source": [
    "df.to_csv(\"output/as3d_uberon_sex.csv\", index=False)"
   ]
  }
 ],
 "metadata": {
  "kernelspec": {
   "display_name": ".venv",
   "language": "python",
   "name": "python3"
  },
  "language_info": {
   "codemirror_mode": {
    "name": "ipython",
    "version": 3
   },
   "file_extension": ".py",
   "mimetype": "text/x-python",
   "name": "python",
   "nbconvert_exporter": "python",
   "pygments_lexer": "ipython3",
   "version": "3.12.4"
  }
 },
 "nbformat": 4,
 "nbformat_minor": 2
}
